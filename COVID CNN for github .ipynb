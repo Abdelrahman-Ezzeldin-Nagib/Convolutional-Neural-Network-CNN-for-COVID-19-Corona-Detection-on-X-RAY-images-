{
 "cells": [
  {
   "cell_type": "code",
   "execution_count": 1,
   "metadata": {},
   "outputs": [],
   "source": [
    "import glob\n",
    "images1 = glob.glob(\"E:\\Z-Machine Learning\\My Work\\DataSets\\COVID-19\\Best ( Images )\\COVID-19 Radiography Database\\COVID-19\\*.png\")"
   ]
  },
  {
   "cell_type": "code",
   "execution_count": 2,
   "metadata": {},
   "outputs": [],
   "source": [
    "images2 = glob.glob(\"E:\\\\Z-Machine Learning\\\\My Work\\\\DataSets\\\\COVID-19\\\\Best ( Images )\\\\COVID-19 Radiography Database\\\\NORMAL\\\\*.png\")"
   ]
  },
  {
   "cell_type": "code",
   "execution_count": 3,
   "metadata": {},
   "outputs": [],
   "source": [
    "images3 = glob.glob(\"E:\\Z-Machine Learning\\My Work\\DataSets\\COVID-19\\Best ( Images )\\COVID-19 Radiography Database\\Viral Pneumonia\\*.png\")"
   ]
  },
  {
   "cell_type": "code",
   "execution_count": 4,
   "metadata": {},
   "outputs": [],
   "source": [
    "classes = ['COVID', 'NORMAL' , 'Viral Pneumonia']"
   ]
  },
  {
   "cell_type": "code",
   "execution_count": 5,
   "metadata": {},
   "outputs": [
    {
     "name": "stderr",
     "output_type": "stream",
     "text": [
      "100%|██████████| 219/219 [00:03<00:00, 70.42it/s]\n",
      "100%|██████████| 1341/1341 [00:12<00:00, 104.16it/s]\n",
      "100%|██████████| 1345/1345 [00:15<00:00, 85.87it/s]\n"
     ]
    }
   ],
   "source": [
    "import cv2\n",
    "from tqdm import tqdm\n",
    "newImages = []\n",
    "y = []\n",
    "w = 29\n",
    "h = 29\n",
    "#the Coivd\n",
    "for image in tqdm(images1):\n",
    "    img = cv2.imread(image,0)\n",
    "    re = cv2.resize(img, (w,h ))\n",
    "    newImages.append(re)\n",
    "    y.append(0)\n",
    "\n",
    "#the Normal\n",
    "for image in tqdm(images2):\n",
    "    img = cv2.imread(image,0)\n",
    "    re = cv2.resize(img, (w,h ))\n",
    "    newImages.append(re)\n",
    "    y.append(1)\n",
    "\n",
    "#the Viral Pneumonia\n",
    "for image in tqdm(images3):\n",
    "    #read images path\n",
    "    img = cv2.imread(image,0)\n",
    "    re = cv2.resize(img, (w,h ))\n",
    "    newImages.append(re)\n",
    "    y.append(2)\n"
   ]
  },
  {
   "cell_type": "code",
   "execution_count": 7,
   "metadata": {},
   "outputs": [],
   "source": [
    "import numpy as np\n",
    "img = np.array(newImages)"
   ]
  },
  {
   "cell_type": "code",
   "execution_count": 8,
   "metadata": {},
   "outputs": [],
   "source": [
    "#scalling the images\n",
    "img = img/255"
   ]
  },
  {
   "cell_type": "code",
   "execution_count": 9,
   "metadata": {},
   "outputs": [
    {
     "name": "stderr",
     "output_type": "stream",
     "text": [
      "C:\\Users\\Abdelrahman Ezz\\anaconda3\\lib\\site-packages\\tensorboard\\compat\\tensorflow_stub\\dtypes.py:541: FutureWarning: Passing (type, 1) or '1type' as a synonym of type is deprecated; in a future version of numpy, it will be understood as (type, (1,)) / '(1,)type'.\n",
      "  _np_qint8 = np.dtype([(\"qint8\", np.int8, 1)])\n",
      "C:\\Users\\Abdelrahman Ezz\\anaconda3\\lib\\site-packages\\tensorboard\\compat\\tensorflow_stub\\dtypes.py:542: FutureWarning: Passing (type, 1) or '1type' as a synonym of type is deprecated; in a future version of numpy, it will be understood as (type, (1,)) / '(1,)type'.\n",
      "  _np_quint8 = np.dtype([(\"quint8\", np.uint8, 1)])\n",
      "C:\\Users\\Abdelrahman Ezz\\anaconda3\\lib\\site-packages\\tensorboard\\compat\\tensorflow_stub\\dtypes.py:543: FutureWarning: Passing (type, 1) or '1type' as a synonym of type is deprecated; in a future version of numpy, it will be understood as (type, (1,)) / '(1,)type'.\n",
      "  _np_qint16 = np.dtype([(\"qint16\", np.int16, 1)])\n",
      "C:\\Users\\Abdelrahman Ezz\\anaconda3\\lib\\site-packages\\tensorboard\\compat\\tensorflow_stub\\dtypes.py:544: FutureWarning: Passing (type, 1) or '1type' as a synonym of type is deprecated; in a future version of numpy, it will be understood as (type, (1,)) / '(1,)type'.\n",
      "  _np_quint16 = np.dtype([(\"quint16\", np.uint16, 1)])\n",
      "C:\\Users\\Abdelrahman Ezz\\anaconda3\\lib\\site-packages\\tensorboard\\compat\\tensorflow_stub\\dtypes.py:545: FutureWarning: Passing (type, 1) or '1type' as a synonym of type is deprecated; in a future version of numpy, it will be understood as (type, (1,)) / '(1,)type'.\n",
      "  _np_qint32 = np.dtype([(\"qint32\", np.int32, 1)])\n",
      "C:\\Users\\Abdelrahman Ezz\\anaconda3\\lib\\site-packages\\tensorboard\\compat\\tensorflow_stub\\dtypes.py:550: FutureWarning: Passing (type, 1) or '1type' as a synonym of type is deprecated; in a future version of numpy, it will be understood as (type, (1,)) / '(1,)type'.\n",
      "  np_resource = np.dtype([(\"resource\", np.ubyte, 1)])\n"
     ]
    }
   ],
   "source": [
    "import tensorflow as tf\n",
    "\n",
    "from tensorflow.keras import layers, models"
   ]
  },
  {
   "cell_type": "code",
   "execution_count": 10,
   "metadata": {},
   "outputs": [],
   "source": [
    "model = models.Sequential()\n",
    "model.add(layers.Conv2D(32, (3, 3), activation='relu', input_shape=(img[0].shape[0], img[0].shape[1], 1)))\n",
    "model.add(layers.MaxPooling2D((2, 2)))\n",
    "model.add(layers.Conv2D(64, (3, 3), activation='relu'))\n",
    "model.add(layers.MaxPooling2D((2, 2)))\n",
    "model.add(layers.Conv2D(32, (3, 3), activation='relu'))"
   ]
  },
  {
   "cell_type": "code",
   "execution_count": 11,
   "metadata": {},
   "outputs": [],
   "source": [
    "model.add(layers.Flatten())\n",
    "model.add(layers.Dense(32, activation='relu'))\n",
    "model.add(layers.Dense(3))"
   ]
  },
  {
   "cell_type": "code",
   "execution_count": 12,
   "metadata": {},
   "outputs": [],
   "source": [
    "import EZML as ez\n",
    "x_train, x_test, y_train, y_test = ez.split_train_test(img,y)"
   ]
  },
  {
   "cell_type": "code",
   "execution_count": 13,
   "metadata": {},
   "outputs": [],
   "source": [
    "x_train = np.array(x_train).reshape(-1, img[0].shape[0], img[0].shape[1], 1)\n",
    "x_test = np.array(x_test).reshape(-1, img[0].shape[0], img[0].shape[1], 1)"
   ]
  },
  {
   "cell_type": "code",
   "execution_count": 14,
   "metadata": {},
   "outputs": [],
   "source": [
    "x_train = np.array(x_train)\n",
    "x_test = np.array(x_test)\n",
    "y_train = np.array(y_train)\n",
    "y_test = np.array(y_test)"
   ]
  },
  {
   "cell_type": "code",
   "execution_count": 15,
   "metadata": {},
   "outputs": [
    {
     "name": "stdout",
     "output_type": "stream",
     "text": [
      "3\n"
     ]
    }
   ],
   "source": [
    "import numpy\n",
    "arr = numpy.array(y)\n",
    "uniqueValues = numpy.unique(arr)\n",
    "print(len(uniqueValues))"
   ]
  },
  {
   "cell_type": "code",
   "execution_count": 16,
   "metadata": {},
   "outputs": [
    {
     "name": "stdout",
     "output_type": "stream",
     "text": [
      "Model: \"sequential\"\n",
      "_________________________________________________________________\n",
      "Layer (type)                 Output Shape              Param #   \n",
      "=================================================================\n",
      "conv2d (Conv2D)              (None, 27, 27, 32)        320       \n",
      "_________________________________________________________________\n",
      "max_pooling2d (MaxPooling2D) (None, 13, 13, 32)        0         \n",
      "_________________________________________________________________\n",
      "conv2d_1 (Conv2D)            (None, 11, 11, 64)        18496     \n",
      "_________________________________________________________________\n",
      "max_pooling2d_1 (MaxPooling2 (None, 5, 5, 64)          0         \n",
      "_________________________________________________________________\n",
      "conv2d_2 (Conv2D)            (None, 3, 3, 32)          18464     \n",
      "_________________________________________________________________\n",
      "flatten (Flatten)            (None, 288)               0         \n",
      "_________________________________________________________________\n",
      "dense (Dense)                (None, 32)                9248      \n",
      "_________________________________________________________________\n",
      "dense_1 (Dense)              (None, 3)                 99        \n",
      "=================================================================\n",
      "Total params: 46,627\n",
      "Trainable params: 46,627\n",
      "Non-trainable params: 0\n",
      "_________________________________________________________________\n"
     ]
    }
   ],
   "source": [
    "model.summary()"
   ]
  },
  {
   "cell_type": "code",
   "execution_count": 17,
   "metadata": {
    "scrolled": true
   },
   "outputs": [
    {
     "name": "stdout",
     "output_type": "stream",
     "text": [
      "Epoch 1/40\n",
      "73/73 [==============================] - 1s 12ms/step - loss: 0.8545 - acc: 0.6028 - val_loss: 0.6667 - val_acc: 0.7900\n",
      "Epoch 2/40\n",
      "73/73 [==============================] - 1s 11ms/step - loss: 0.5125 - acc: 0.8077 - val_loss: 0.3440 - val_acc: 0.8744\n",
      "Epoch 3/40\n",
      "73/73 [==============================] - 1s 10ms/step - loss: 0.3321 - acc: 0.8731 - val_loss: 0.2515 - val_acc: 0.9105\n",
      "Epoch 4/40\n",
      "73/73 [==============================] - 1s 11ms/step - loss: 0.2883 - acc: 0.8924 - val_loss: 0.2280 - val_acc: 0.9225\n",
      "Epoch 5/40\n",
      "73/73 [==============================] - 1s 12ms/step - loss: 0.2529 - acc: 0.9045 - val_loss: 0.2201 - val_acc: 0.9105\n",
      "Epoch 6/40\n",
      "73/73 [==============================] - 1s 10ms/step - loss: 0.2302 - acc: 0.9204 - val_loss: 0.2073 - val_acc: 0.9157\n",
      "Epoch 7/40\n",
      "73/73 [==============================] - 1s 12ms/step - loss: 0.2179 - acc: 0.9225 - val_loss: 0.1943 - val_acc: 0.9277\n",
      "Epoch 8/40\n",
      "73/73 [==============================] - 1s 10ms/step - loss: 0.1963 - acc: 0.9299 - val_loss: 0.2101 - val_acc: 0.9191\n",
      "Epoch 9/40\n",
      "73/73 [==============================] - 1s 11ms/step - loss: 0.1861 - acc: 0.9355 - val_loss: 0.1666 - val_acc: 0.9346\n",
      "Epoch 10/40\n",
      "73/73 [==============================] - 1s 10ms/step - loss: 0.1641 - acc: 0.9449 - val_loss: 0.1643 - val_acc: 0.9329\n",
      "Epoch 11/40\n",
      "73/73 [==============================] - 1s 10ms/step - loss: 0.1553 - acc: 0.9454 - val_loss: 0.1713 - val_acc: 0.9294\n",
      "Epoch 12/40\n",
      "73/73 [==============================] - 1s 11ms/step - loss: 0.1481 - acc: 0.9466 - val_loss: 0.1581 - val_acc: 0.9312\n",
      "Epoch 13/40\n",
      "73/73 [==============================] - 1s 10ms/step - loss: 0.1444 - acc: 0.9488 - val_loss: 0.1582 - val_acc: 0.9380\n",
      "Epoch 14/40\n",
      "73/73 [==============================] - 1s 10ms/step - loss: 0.1293 - acc: 0.9570 - val_loss: 0.1570 - val_acc: 0.9466\n",
      "Epoch 15/40\n",
      "73/73 [==============================] - 1s 10ms/step - loss: 0.1155 - acc: 0.9617 - val_loss: 0.1536 - val_acc: 0.9415\n",
      "Epoch 16/40\n",
      "73/73 [==============================] - 1s 10ms/step - loss: 0.1075 - acc: 0.9608 - val_loss: 0.1685 - val_acc: 0.9329\n",
      "Epoch 17/40\n",
      "73/73 [==============================] - 1s 11ms/step - loss: 0.0958 - acc: 0.9690 - val_loss: 0.1601 - val_acc: 0.9432\n",
      "Epoch 18/40\n",
      "73/73 [==============================] - 1s 10ms/step - loss: 0.0864 - acc: 0.9712 - val_loss: 0.1487 - val_acc: 0.9501\n",
      "Epoch 19/40\n",
      "73/73 [==============================] - 1s 11ms/step - loss: 0.0805 - acc: 0.9725 - val_loss: 0.1784 - val_acc: 0.9432\n",
      "Epoch 20/40\n",
      "73/73 [==============================] - 1s 10ms/step - loss: 0.0847 - acc: 0.9712 - val_loss: 0.1475 - val_acc: 0.9432\n",
      "Epoch 21/40\n",
      "73/73 [==============================] - 1s 10ms/step - loss: 0.0667 - acc: 0.9802 - val_loss: 0.1894 - val_acc: 0.9329\n",
      "Epoch 22/40\n",
      "73/73 [==============================] - 1s 10ms/step - loss: 0.0696 - acc: 0.9772 - val_loss: 0.1529 - val_acc: 0.9535\n",
      "Epoch 23/40\n",
      "73/73 [==============================] - 1s 10ms/step - loss: 0.0614 - acc: 0.9811 - val_loss: 0.2109 - val_acc: 0.9277\n",
      "Epoch 24/40\n",
      "73/73 [==============================] - 1s 11ms/step - loss: 0.0578 - acc: 0.9828 - val_loss: 0.1474 - val_acc: 0.9449\n",
      "Epoch 25/40\n",
      "73/73 [==============================] - 1s 11ms/step - loss: 0.0428 - acc: 0.9880 - val_loss: 0.1557 - val_acc: 0.9501\n",
      "Epoch 26/40\n",
      "73/73 [==============================] - 1s 10ms/step - loss: 0.0388 - acc: 0.9897 - val_loss: 0.1645 - val_acc: 0.9449\n",
      "Epoch 27/40\n",
      "73/73 [==============================] - 1s 10ms/step - loss: 0.0351 - acc: 0.9914 - val_loss: 0.1576 - val_acc: 0.9570\n",
      "Epoch 28/40\n",
      "73/73 [==============================] - 1s 11ms/step - loss: 0.0299 - acc: 0.9918 - val_loss: 0.1888 - val_acc: 0.9415\n",
      "Epoch 29/40\n",
      "73/73 [==============================] - 1s 10ms/step - loss: 0.0320 - acc: 0.9910 - val_loss: 0.1579 - val_acc: 0.9501\n",
      "Epoch 30/40\n",
      "73/73 [==============================] - 1s 10ms/step - loss: 0.0202 - acc: 0.9953 - val_loss: 0.1800 - val_acc: 0.9484\n",
      "Epoch 31/40\n",
      "73/73 [==============================] - 1s 10ms/step - loss: 0.0161 - acc: 0.9978 - val_loss: 0.1657 - val_acc: 0.9552\n",
      "Epoch 32/40\n",
      "73/73 [==============================] - 1s 10ms/step - loss: 0.0128 - acc: 0.9983 - val_loss: 0.1924 - val_acc: 0.9501\n",
      "Epoch 33/40\n",
      "73/73 [==============================] - 1s 10ms/step - loss: 0.0102 - acc: 0.9996 - val_loss: 0.1610 - val_acc: 0.9570\n",
      "Epoch 34/40\n",
      "73/73 [==============================] - 1s 10ms/step - loss: 0.0075 - acc: 0.9996 - val_loss: 0.1849 - val_acc: 0.9501\n",
      "Epoch 35/40\n",
      "73/73 [==============================] - 1s 10ms/step - loss: 0.0077 - acc: 0.9991 - val_loss: 0.2009 - val_acc: 0.9484\n",
      "Epoch 36/40\n",
      "73/73 [==============================] - 1s 10ms/step - loss: 0.0109 - acc: 0.9974 - val_loss: 0.1600 - val_acc: 0.9570\n",
      "Epoch 37/40\n",
      "73/73 [==============================] - 1s 10ms/step - loss: 0.0072 - acc: 0.9991 - val_loss: 0.1768 - val_acc: 0.9484\n",
      "Epoch 38/40\n",
      "73/73 [==============================] - 1s 10ms/step - loss: 0.0049 - acc: 0.9996 - val_loss: 0.2015 - val_acc: 0.9501\n",
      "Epoch 39/40\n",
      "73/73 [==============================] - 1s 10ms/step - loss: 0.0038 - acc: 1.0000 - val_loss: 0.1899 - val_acc: 0.9518\n",
      "Epoch 40/40\n",
      "73/73 [==============================] - 1s 11ms/step - loss: 0.0037 - acc: 1.0000 - val_loss: 0.1879 - val_acc: 0.9552\n"
     ]
    }
   ],
   "source": [
    "model.compile(optimizer='adam',\n",
    "              loss=tf.keras.losses.SparseCategoricalCrossentropy(from_logits=True),\n",
    "              metrics=['acc'])\n",
    "\n",
    "history = model.fit(x_train, y_train, epochs=40, \n",
    "                    validation_data=(x_test, y_test))"
   ]
  }
 ],
 "metadata": {
  "kernelspec": {
   "display_name": "Python 3",
   "language": "python",
   "name": "python3"
  },
  "language_info": {
   "codemirror_mode": {
    "name": "ipython",
    "version": 3
   },
   "file_extension": ".py",
   "mimetype": "text/x-python",
   "name": "python",
   "nbconvert_exporter": "python",
   "pygments_lexer": "ipython3",
   "version": "3.7.6"
  }
 },
 "nbformat": 4,
 "nbformat_minor": 4
}
